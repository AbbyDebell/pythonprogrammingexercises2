{
 "cells": [
  {
   "cell_type": "markdown",
   "metadata": {},
   "source": [
    "## List Exercises"
   ]
  },
  {
   "cell_type": "code",
   "execution_count": 2,
   "metadata": {},
   "outputs": [],
   "source": [
    "#declare some variables that are lists\n",
    "myNumberList = [1,2,3,4,5,6,7,8]\n",
    "myNameList = [\"abby\",\"ben\",\"carly\",\"dan\",\"eloise\",\"fred\"]"
   ]
  },
  {
   "cell_type": "code",
   "execution_count": 3,
   "metadata": {},
   "outputs": [
    {
     "name": "stdout",
     "output_type": "stream",
     "text": [
      "[1, 2, 3, 4, 5, 6, 7, 8]\n",
      "['abby', 'ben', 'carly', 'dan', 'eloise', 'fred']\n"
     ]
    }
   ],
   "source": [
    "#output the whole list with its structure\n",
    "print(myNumberList)\n",
    "print(myNameList)"
   ]
  },
  {
   "cell_type": "code",
   "execution_count": 4,
   "metadata": {},
   "outputs": [
    {
     "name": "stdout",
     "output_type": "stream",
     "text": [
      "abby\n",
      "ben\n",
      "carly\n",
      "dan\n",
      "eloise\n",
      "fred\n"
     ]
    }
   ],
   "source": [
    "#output the list, one element at a time\n",
    "#use a for loop and iterate through the list\n",
    "for item in (myNameList):\n",
    "    print(item)"
   ]
  },
  {
   "cell_type": "code",
   "execution_count": 5,
   "metadata": {},
   "outputs": [
    {
     "name": "stdout",
     "output_type": "stream",
     "text": [
      "abby ben carly dan eloise fred "
     ]
    }
   ],
   "source": [
    "for item in (myNameList):\n",
    "    print(item, end=\" \") #prints each item with a new line"
   ]
  },
  {
   "cell_type": "code",
   "execution_count": 7,
   "metadata": {},
   "outputs": [
    {
     "name": "stdout",
     "output_type": "stream",
     "text": [
      "6\n",
      "8\n"
     ]
    }
   ],
   "source": [
    "#how can we find out how many elements a list has?\n",
    "x = len(myNameList)\n",
    "print(x)\n",
    "y = len(myNumberList)\n",
    "print(y)"
   ]
  },
  {
   "cell_type": "code",
   "execution_count": 9,
   "metadata": {},
   "outputs": [
    {
     "name": "stdout",
     "output_type": "stream",
     "text": [
      "abby\n",
      "carly\n",
      "eloise\n"
     ]
    }
   ],
   "source": [
    "#how to print every second element of the list\n",
    "for i in range(len(myNameList)):\n",
    "    #only print if the list index number is divisible by 2 - even boxes\n",
    "    if i%2 ==0:\n",
    "        print(myNameList[i])"
   ]
  },
  {
   "cell_type": "code",
   "execution_count": 11,
   "metadata": {},
   "outputs": [
    {
     "name": "stdout",
     "output_type": "stream",
     "text": [
      "abby\n",
      "carly\n",
      "eloise\n"
     ]
    }
   ],
   "source": [
    "#how to print every second element of the list v2\n",
    "for i in range(0,len(myNameList),2):\n",
    "    print(myNameList[i])"
   ]
  },
  {
   "cell_type": "code",
   "execution_count": null,
   "metadata": {},
   "outputs": [],
   "source": []
  }
 ],
 "metadata": {
  "kernelspec": {
   "display_name": "Python 3",
   "language": "python",
   "name": "python3"
  },
  "language_info": {
   "codemirror_mode": {
    "name": "ipython",
    "version": 3
   },
   "file_extension": ".py",
   "mimetype": "text/x-python",
   "name": "python",
   "nbconvert_exporter": "python",
   "pygments_lexer": "ipython3",
   "version": "3.5.2"
  }
 },
 "nbformat": 4,
 "nbformat_minor": 2
}
